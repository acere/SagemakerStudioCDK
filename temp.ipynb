{
 "cells": [
  {
   "cell_type": "code",
   "execution_count": 1,
   "metadata": {},
   "outputs": [],
   "source": [
    "import boto3"
   ]
  },
  {
   "cell_type": "code",
   "execution_count": 4,
   "metadata": {},
   "outputs": [],
   "source": [
    "boto3.setup_default_session(profile_name='developer')\n",
    "client = boto3.client(\"sagemaker\")"
   ]
  },
  {
   "cell_type": "code",
   "execution_count": 8,
   "metadata": {},
   "outputs": [
    {
     "data": {
      "text/plain": "{'ProjectSummaryList': [{'ProjectName': 'Rossman',\n   'ProjectArn': 'arn:aws:sagemaker:ap-southeast-1:716175367532:project/rossman',\n   'ProjectId': 'p-9hatjvrgij5a',\n   'CreationTime': datetime.datetime(2021, 4, 1, 13, 37, 15, 828000, tzinfo=tzlocal()),\n   'ProjectStatus': 'DeleteInProgress'},\n  {'ProjectName': 'End2EndProject00',\n   'ProjectDescription': 'Test SM project to validate SP and ownership',\n   'ProjectArn': 'arn:aws:sagemaker:ap-southeast-1:716175367532:project/end2endproject00',\n   'ProjectId': 'p-46ix74vzecnm',\n   'CreationTime': datetime.datetime(2021, 3, 6, 12, 23, 51, 998000, tzinfo=tzlocal()),\n   'ProjectStatus': 'CreateCompleted'}],\n 'ResponseMetadata': {'RequestId': 'b7dda31a-c716-40b0-a6f5-b4f17a35b92f',\n  'HTTPStatusCode': 200,\n  'HTTPHeaders': {'x-amzn-requestid': 'b7dda31a-c716-40b0-a6f5-b4f17a35b92f',\n   'content-type': 'application/x-amz-json-1.1',\n   'content-length': '507',\n   'date': 'Thu, 15 Apr 2021 09:09:55 GMT'},\n  'RetryAttempts': 0}}"
     },
     "execution_count": 8,
     "metadata": {},
     "output_type": "execute_result"
    }
   ],
   "source": [
    "resp = client.list_projects()\n",
    "resp"
   ]
  },
  {
   "cell_type": "code",
   "execution_count": 9,
   "metadata": {},
   "outputs": [
    {
     "data": {
      "text/plain": "{'ResponseMetadata': {'RequestId': 'ea5acb9d-3fdf-45c1-9ddb-5bbb3f2901d6',\n  'HTTPStatusCode': 200,\n  'HTTPHeaders': {'x-amzn-requestid': 'ea5acb9d-3fdf-45c1-9ddb-5bbb3f2901d6',\n   'content-type': 'application/x-amz-json-1.1',\n   'content-length': '0',\n   'date': 'Thu, 15 Apr 2021 09:10:15 GMT'},\n  'RetryAttempts': 0}}"
     },
     "execution_count": 9,
     "metadata": {},
     "output_type": "execute_result"
    }
   ],
   "source": [
    "client.delete_project(ProjectName='End2EndProject00')"
   ]
  },
  {
   "cell_type": "code",
   "execution_count": null,
   "metadata": {},
   "outputs": [],
   "source": [
    "# https://github.com/aws-samples/amazon-sagemaker-mlops-workshop"
   ]
  }
 ],
 "metadata": {
  "kernelspec": {
   "display_name": "SageMaker",
   "language": "python",
   "name": "sagemaker"
  },
  "language_info": {
   "name": "python",
   "version": ""
  },
  "orig_nbformat": 2
 },
 "nbformat": 4,
 "nbformat_minor": 2
}